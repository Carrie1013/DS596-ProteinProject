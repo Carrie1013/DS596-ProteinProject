{
 "cells": [
  {
   "cell_type": "code",
   "execution_count": 2,
   "metadata": {},
   "outputs": [],
   "source": [
    "import time\n",
    "import json\n",
    "import requests\n",
    "import pandas as pd\n",
    "\n",
    "\n",
    "\n",
    "def call_psipred_api(sequence: str):\n",
    "    psipred = \"http://bioinf.cs.ucl.ac.uk/psipred/api\"\n",
    "    submit_url = f\"{psipred}/submission\"\n",
    "    fasta_sequence = f\">query\\n{sequence}\"\n",
    "\n",
    "    payload = {'input_data': fasta_sequence}\n",
    "    data = {'job': 'psipred', 'submission_name': 'test','email': 'carrief0908@gmail.com'}\n",
    "    r = requests.post(f\"{submit_url}.json\", data=data, files=payload)\n",
    "    response_data = json.loads(r.text)\n",
    "    print(response_data)\n",
    "    uuid = response_data['UUID']\n",
    "\n",
    "    retries = 0\n",
    "    while retries < 30:\n",
    "      result_uri = f\"{submit_url}/{uuid}\"\n",
    "      r = requests.get(result_uri, headers={\"Accept\":\"application/json\"})\n",
    "      result_data = json.loads(r.text)\n",
    "      if \"Complete\" in result_data[\"state\"]:\n",
    "          data_path = result_data['submissions'][0]['results'][5]['data_path']\n",
    "          response = requests.get(f\"{psipred}{data_path}\")\n",
    "          if response.status_code != 200:\n",
    "              raise Exception(f\"Failed to get results: {response.text}\")\n",
    "          ss_sequence = \"\"\n",
    "          for line in response.text.splitlines():\n",
    "              if not line.startswith('#') and len(line.split()) > 2:\n",
    "                  ss_sequence += line.split()[2]\n",
    "          return ss_sequence\n",
    "      else:\n",
    "          retries += 1\n",
    "          time.sleep(30)\n",
    "\n",
    "    raise Exception(\"Timeout waiting for PSIPRED results\")\n",
    "\n",
    "\n",
    "\n",
    "split_data = pd.read_csv('../data/split.csv')\n",
    "split_data = split_data[['Split Site', 'Sequence']]\n",
    "split_data['Sequence'] = split_data['Sequence'].str.replace(' ', '', regex=False)\n",
    "\n",
    "expanded_rows = split_data['Split Site'].str.split('/').explode()\n",
    "expanded_data = pd.DataFrame({\n",
    "    'Sequence': split_data.loc[expanded_rows.index, 'Sequence'].values,\n",
    "    'Split Site': expanded_rows\n",
    "})\n",
    "expanded_data.reset_index(drop=True, inplace=True)"
   ]
  },
  {
   "cell_type": "code",
   "execution_count": 18,
   "metadata": {},
   "outputs": [
    {
     "name": "stdout",
     "output_type": "stream",
     "text": [
      "{'UUID': '1be48560-ada8-11ef-ae68-00163e100466', 'submission_name': 'test'}\n"
     ]
    },
    {
     "ename": "Exception",
     "evalue": "Timeout waiting for PSIPRED results",
     "output_type": "error",
     "traceback": [
      "\u001b[0;31m---------------------------------------------------------------------------\u001b[0m",
      "\u001b[0;31mException\u001b[0m                                 Traceback (most recent call last)",
      "Cell \u001b[0;32mIn[18], line 4\u001b[0m\n\u001b[1;32m      2\u001b[0m Seqs \u001b[38;5;241m=\u001b[39m {}\n\u001b[1;32m      3\u001b[0m \u001b[38;5;28;01mfor\u001b[39;00m s \u001b[38;5;129;01min\u001b[39;00m seqs:\n\u001b[0;32m----> 4\u001b[0m     Seqs[s] \u001b[38;5;241m=\u001b[39m \u001b[43mcall_psipred_api\u001b[49m\u001b[43m(\u001b[49m\u001b[43ms\u001b[49m\u001b[43m)\u001b[49m\n\u001b[1;32m      5\u001b[0m     \u001b[38;5;28;01mwith\u001b[39;00m \u001b[38;5;28mopen\u001b[39m(\u001b[38;5;124m'\u001b[39m\u001b[38;5;124m../data/seq_2_second4.json\u001b[39m\u001b[38;5;124m'\u001b[39m, \u001b[38;5;124m'\u001b[39m\u001b[38;5;124mw\u001b[39m\u001b[38;5;124m'\u001b[39m) \u001b[38;5;28;01mas\u001b[39;00m f:\n\u001b[1;32m      6\u001b[0m         json\u001b[38;5;241m.\u001b[39mdump(Seqs, f)\n",
      "Cell \u001b[0;32mIn[2], line 38\u001b[0m, in \u001b[0;36mcall_psipred_api\u001b[0;34m(sequence)\u001b[0m\n\u001b[1;32m     35\u001b[0m       retries \u001b[38;5;241m+\u001b[39m\u001b[38;5;241m=\u001b[39m \u001b[38;5;241m1\u001b[39m\n\u001b[1;32m     36\u001b[0m       time\u001b[38;5;241m.\u001b[39msleep(\u001b[38;5;241m30\u001b[39m)\n\u001b[0;32m---> 38\u001b[0m \u001b[38;5;28;01mraise\u001b[39;00m \u001b[38;5;167;01mException\u001b[39;00m(\u001b[38;5;124m\"\u001b[39m\u001b[38;5;124mTimeout waiting for PSIPRED results\u001b[39m\u001b[38;5;124m\"\u001b[39m)\n",
      "\u001b[0;31mException\u001b[0m: Timeout waiting for PSIPRED results"
     ]
    }
   ],
   "source": [
    "seqs = expanded_data['Sequence'].unique().tolist()[6:7]\n",
    "Seqs = {}\n",
    "for s in seqs:\n",
    "    Seqs[s] = call_psipred_api(s)\n",
    "    with open('../data/seq_2_second4.json', 'w') as f:\n",
    "        json.dump(Seqs, f)"
   ]
  },
  {
   "cell_type": "code",
   "execution_count": null,
   "metadata": {},
   "outputs": [],
   "source": []
  },
  {
   "cell_type": "code",
   "execution_count": null,
   "metadata": {},
   "outputs": [],
   "source": [
    "expanded_data['Secondary'] = expanded_data['Sequence'].map(Seqs)"
   ]
  },
  {
   "cell_type": "code",
   "execution_count": null,
   "metadata": {},
   "outputs": [],
   "source": [
    "seqs[6]"
   ]
  }
 ],
 "metadata": {
  "kernelspec": {
   "display_name": "cq1",
   "language": "python",
   "name": "python3"
  },
  "language_info": {
   "codemirror_mode": {
    "name": "ipython",
    "version": 3
   },
   "file_extension": ".py",
   "mimetype": "text/x-python",
   "name": "python",
   "nbconvert_exporter": "python",
   "pygments_lexer": "ipython3",
   "version": "3.9.16"
  }
 },
 "nbformat": 4,
 "nbformat_minor": 2
}
