{
 "cells": [
  {
   "cell_type": "code",
   "execution_count": 2,
   "metadata": {},
   "outputs": [
    {
     "name": "stdout",
     "output_type": "stream",
     "text": [
      "/Users/qiaochufeng/Documents/GitHub/DS596-Project\n"
     ]
    }
   ],
   "source": [
    "%cd ../\n",
    "\n",
    "import os\n",
    "import numpy as np\n",
    "import pandas as pd\n",
    "from tensorflow import keras\n",
    "from sklearn.model_selection import train_test_split\n",
    "from proteinbert import load_pretrained_model"
   ]
  },
  {
   "cell_type": "code",
   "execution_count": 120,
   "metadata": {},
   "outputs": [],
   "source": [
    "balanced_df = pd.read_csv(\"unsampled.csv\", index_col=\"Unnamed: 0\")"
   ]
  },
  {
   "cell_type": "code",
   "execution_count": 121,
   "metadata": {},
   "outputs": [
    {
     "data": {
      "text/html": [
       "<div>\n",
       "<style scoped>\n",
       "    .dataframe tbody tr th:only-of-type {\n",
       "        vertical-align: middle;\n",
       "    }\n",
       "\n",
       "    .dataframe tbody tr th {\n",
       "        vertical-align: top;\n",
       "    }\n",
       "\n",
       "    .dataframe thead th {\n",
       "        text-align: right;\n",
       "    }\n",
       "</style>\n",
       "<table border=\"1\" class=\"dataframe\">\n",
       "  <thead>\n",
       "    <tr style=\"text-align: right;\">\n",
       "      <th></th>\n",
       "      <th>Site</th>\n",
       "      <th>Split</th>\n",
       "      <th>Sequence</th>\n",
       "      <th>Secondary</th>\n",
       "    </tr>\n",
       "  </thead>\n",
       "  <tbody>\n",
       "    <tr>\n",
       "      <th>0</th>\n",
       "      <td>1</td>\n",
       "      <td>False</td>\n",
       "      <td>MSKGEELFTGVVPILVELDGDVNGHKFSVSGEGEGDATYGKLTLKF...</td>\n",
       "      <td>CCCCHHHCCCCCEEEEEEEEEECCEEEEEEEEEEECCCCEEEEEEE...</td>\n",
       "    </tr>\n",
       "    <tr>\n",
       "      <th>1</th>\n",
       "      <td>2</td>\n",
       "      <td>False</td>\n",
       "      <td>MSKGEELFTGVVPILVELDGDVNGHKFSVSGEGEGDATYGKLTLKF...</td>\n",
       "      <td>CCCCHHHCCCCCEEEEEEEEEECCEEEEEEEEEEECCCCEEEEEEE...</td>\n",
       "    </tr>\n",
       "    <tr>\n",
       "      <th>2</th>\n",
       "      <td>3</td>\n",
       "      <td>False</td>\n",
       "      <td>MSKGEELFTGVVPILVELDGDVNGHKFSVSGEGEGDATYGKLTLKF...</td>\n",
       "      <td>CCCCHHHCCCCCEEEEEEEEEECCEEEEEEEEEEECCCCEEEEEEE...</td>\n",
       "    </tr>\n",
       "    <tr>\n",
       "      <th>3</th>\n",
       "      <td>4</td>\n",
       "      <td>False</td>\n",
       "      <td>MSKGEELFTGVVPILVELDGDVNGHKFSVSGEGEGDATYGKLTLKF...</td>\n",
       "      <td>CCCCHHHCCCCCEEEEEEEEEECCEEEEEEEEEEECCCCEEEEEEE...</td>\n",
       "    </tr>\n",
       "    <tr>\n",
       "      <th>4</th>\n",
       "      <td>5</td>\n",
       "      <td>False</td>\n",
       "      <td>MSKGEELFTGVVPILVELDGDVNGHKFSVSGEGEGDATYGKLTLKF...</td>\n",
       "      <td>CCCCHHHCCCCCEEEEEEEEEECCEEEEEEEEEEECCCCEEEEEEE...</td>\n",
       "    </tr>\n",
       "    <tr>\n",
       "      <th>...</th>\n",
       "      <td>...</td>\n",
       "      <td>...</td>\n",
       "      <td>...</td>\n",
       "      <td>...</td>\n",
       "    </tr>\n",
       "    <tr>\n",
       "      <th>4055</th>\n",
       "      <td>603</td>\n",
       "      <td>False</td>\n",
       "      <td>MSKLEKFTNCYSLSKTLRFKAIPVGKTQENIDNKRLLVEDEKRAED...</td>\n",
       "      <td>CCHHHHHCCCCCCCCEEEEEEEECCCHHHHHHHCCCCHHHHHHHHH...</td>\n",
       "    </tr>\n",
       "    <tr>\n",
       "      <th>4056</th>\n",
       "      <td>604</td>\n",
       "      <td>False</td>\n",
       "      <td>MSKLEKFTNCYSLSKTLRFKAIPVGKTQENIDNKRLLVEDEKRAED...</td>\n",
       "      <td>CCHHHHHCCCCCCCCEEEEEEEECCCHHHHHHHCCCCHHHHHHHHH...</td>\n",
       "    </tr>\n",
       "    <tr>\n",
       "      <th>4057</th>\n",
       "      <td>605</td>\n",
       "      <td>False</td>\n",
       "      <td>MSKLEKFTNCYSLSKTLRFKAIPVGKTQENIDNKRLLVEDEKRAED...</td>\n",
       "      <td>CCHHHHHCCCCCCCCEEEEEEEECCCHHHHHHHCCCCHHHHHHHHH...</td>\n",
       "    </tr>\n",
       "    <tr>\n",
       "      <th>4058</th>\n",
       "      <td>606</td>\n",
       "      <td>False</td>\n",
       "      <td>MSKLEKFTNCYSLSKTLRFKAIPVGKTQENIDNKRLLVEDEKRAED...</td>\n",
       "      <td>CCHHHHHCCCCCCCCEEEEEEEECCCHHHHHHHCCCCHHHHHHHHH...</td>\n",
       "    </tr>\n",
       "    <tr>\n",
       "      <th>4059</th>\n",
       "      <td>607</td>\n",
       "      <td>True</td>\n",
       "      <td>MSKLEKFTNCYSLSKTLRFKAIPVGKTQENIDNKRLLVEDEKRAED...</td>\n",
       "      <td>CCHHHHHCCCCCCCCEEEEEEEECCCHHHHHHHCCCCHHHHHHHHH...</td>\n",
       "    </tr>\n",
       "  </tbody>\n",
       "</table>\n",
       "<p>4060 rows × 4 columns</p>\n",
       "</div>"
      ],
      "text/plain": [
       "      Site  Split                                           Sequence  \\\n",
       "0        1  False  MSKGEELFTGVVPILVELDGDVNGHKFSVSGEGEGDATYGKLTLKF...   \n",
       "1        2  False  MSKGEELFTGVVPILVELDGDVNGHKFSVSGEGEGDATYGKLTLKF...   \n",
       "2        3  False  MSKGEELFTGVVPILVELDGDVNGHKFSVSGEGEGDATYGKLTLKF...   \n",
       "3        4  False  MSKGEELFTGVVPILVELDGDVNGHKFSVSGEGEGDATYGKLTLKF...   \n",
       "4        5  False  MSKGEELFTGVVPILVELDGDVNGHKFSVSGEGEGDATYGKLTLKF...   \n",
       "...    ...    ...                                                ...   \n",
       "4055   603  False  MSKLEKFTNCYSLSKTLRFKAIPVGKTQENIDNKRLLVEDEKRAED...   \n",
       "4056   604  False  MSKLEKFTNCYSLSKTLRFKAIPVGKTQENIDNKRLLVEDEKRAED...   \n",
       "4057   605  False  MSKLEKFTNCYSLSKTLRFKAIPVGKTQENIDNKRLLVEDEKRAED...   \n",
       "4058   606  False  MSKLEKFTNCYSLSKTLRFKAIPVGKTQENIDNKRLLVEDEKRAED...   \n",
       "4059   607   True  MSKLEKFTNCYSLSKTLRFKAIPVGKTQENIDNKRLLVEDEKRAED...   \n",
       "\n",
       "                                              Secondary  \n",
       "0     CCCCHHHCCCCCEEEEEEEEEECCEEEEEEEEEEECCCCEEEEEEE...  \n",
       "1     CCCCHHHCCCCCEEEEEEEEEECCEEEEEEEEEEECCCCEEEEEEE...  \n",
       "2     CCCCHHHCCCCCEEEEEEEEEECCEEEEEEEEEEECCCCEEEEEEE...  \n",
       "3     CCCCHHHCCCCCEEEEEEEEEECCEEEEEEEEEEECCCCEEEEEEE...  \n",
       "4     CCCCHHHCCCCCEEEEEEEEEECCEEEEEEEEEEECCCCEEEEEEE...  \n",
       "...                                                 ...  \n",
       "4055  CCHHHHHCCCCCCCCEEEEEEEECCCHHHHHHHCCCCHHHHHHHHH...  \n",
       "4056  CCHHHHHCCCCCCCCEEEEEEEECCCHHHHHHHCCCCHHHHHHHHH...  \n",
       "4057  CCHHHHHCCCCCCCCEEEEEEEECCCHHHHHHHCCCCHHHHHHHHH...  \n",
       "4058  CCHHHHHCCCCCCCCEEEEEEEECCCHHHHHHHCCCCHHHHHHHHH...  \n",
       "4059  CCHHHHHCCCCCCCCEEEEEEEECCCHHHHHHHCCCCHHHHHHHHH...  \n",
       "\n",
       "[4060 rows x 4 columns]"
      ]
     },
     "execution_count": 121,
     "metadata": {},
     "output_type": "execute_result"
    }
   ],
   "source": [
    "balanced_df"
   ]
  },
  {
   "cell_type": "code",
   "execution_count": 122,
   "metadata": {},
   "outputs": [
    {
     "data": {
      "text/html": [
       "<div>\n",
       "<style scoped>\n",
       "    .dataframe tbody tr th:only-of-type {\n",
       "        vertical-align: middle;\n",
       "    }\n",
       "\n",
       "    .dataframe tbody tr th {\n",
       "        vertical-align: top;\n",
       "    }\n",
       "\n",
       "    .dataframe thead th {\n",
       "        text-align: right;\n",
       "    }\n",
       "</style>\n",
       "<table border=\"1\" class=\"dataframe\">\n",
       "  <thead>\n",
       "    <tr style=\"text-align: right;\">\n",
       "      <th></th>\n",
       "      <th>Site</th>\n",
       "      <th>Split</th>\n",
       "      <th>Sequence</th>\n",
       "      <th>Secondary</th>\n",
       "    </tr>\n",
       "  </thead>\n",
       "  <tbody>\n",
       "    <tr>\n",
       "      <th>0</th>\n",
       "      <td>1</td>\n",
       "      <td>False</td>\n",
       "      <td>MSKGEELFTGVVPILVELDGDVNGHKFSVSGEGEGDATYGKLTLKF...</td>\n",
       "      <td>CCCCHHHCCCCCEEEEEEEEEECCEEEEEEEEEEECCCCEEEEEEE...</td>\n",
       "    </tr>\n",
       "    <tr>\n",
       "      <th>1</th>\n",
       "      <td>2</td>\n",
       "      <td>False</td>\n",
       "      <td>MSKGEELFTGVVPILVELDGDVNGHKFSVSGEGEGDATYGKLTLKF...</td>\n",
       "      <td>CCCCHHHCCCCCEEEEEEEEEECCEEEEEEEEEEECCCCEEEEEEE...</td>\n",
       "    </tr>\n",
       "    <tr>\n",
       "      <th>2</th>\n",
       "      <td>3</td>\n",
       "      <td>False</td>\n",
       "      <td>MSKGEELFTGVVPILVELDGDVNGHKFSVSGEGEGDATYGKLTLKF...</td>\n",
       "      <td>CCCCHHHCCCCCEEEEEEEEEECCEEEEEEEEEEECCCCEEEEEEE...</td>\n",
       "    </tr>\n",
       "    <tr>\n",
       "      <th>3</th>\n",
       "      <td>4</td>\n",
       "      <td>False</td>\n",
       "      <td>MSKGEELFTGVVPILVELDGDVNGHKFSVSGEGEGDATYGKLTLKF...</td>\n",
       "      <td>CCCCHHHCCCCCEEEEEEEEEECCEEEEEEEEEEECCCCEEEEEEE...</td>\n",
       "    </tr>\n",
       "    <tr>\n",
       "      <th>4</th>\n",
       "      <td>5</td>\n",
       "      <td>False</td>\n",
       "      <td>MSKGEELFTGVVPILVELDGDVNGHKFSVSGEGEGDATYGKLTLKF...</td>\n",
       "      <td>CCCCHHHCCCCCEEEEEEEEEECCEEEEEEEEEEECCCCEEEEEEE...</td>\n",
       "    </tr>\n",
       "    <tr>\n",
       "      <th>...</th>\n",
       "      <td>...</td>\n",
       "      <td>...</td>\n",
       "      <td>...</td>\n",
       "      <td>...</td>\n",
       "    </tr>\n",
       "    <tr>\n",
       "      <th>2940</th>\n",
       "      <td>185</td>\n",
       "      <td>False</td>\n",
       "      <td>MVSELIKENMPMKLYMEGTVNNHHFKCTSEGEGKPYEGTQTMRIKV...</td>\n",
       "      <td>CCCCCCCCCCCEEEEEEEEECCEEEEEEEEEEECCCCCEEEEEEEE...</td>\n",
       "    </tr>\n",
       "    <tr>\n",
       "      <th>2941</th>\n",
       "      <td>186</td>\n",
       "      <td>False</td>\n",
       "      <td>MVSELIKENMPMKLYMEGTVNNHHFKCTSEGEGKPYEGTQTMRIKV...</td>\n",
       "      <td>CCCCCCCCCCCEEEEEEEEECCEEEEEEEEEEECCCCCEEEEEEEE...</td>\n",
       "    </tr>\n",
       "    <tr>\n",
       "      <th>2942</th>\n",
       "      <td>187</td>\n",
       "      <td>False</td>\n",
       "      <td>MVSELIKENMPMKLYMEGTVNNHHFKCTSEGEGKPYEGTQTMRIKV...</td>\n",
       "      <td>CCCCCCCCCCCEEEEEEEEECCEEEEEEEEEEECCCCCEEEEEEEE...</td>\n",
       "    </tr>\n",
       "    <tr>\n",
       "      <th>2943</th>\n",
       "      <td>188</td>\n",
       "      <td>True</td>\n",
       "      <td>MVSELIKENMPMKLYMEGTVNNHHFKCTSEGEGKPYEGTQTMRIKV...</td>\n",
       "      <td>CCCCCCCCCCCEEEEEEEEECCEEEEEEEEEEECCCCCEEEEEEEE...</td>\n",
       "    </tr>\n",
       "    <tr>\n",
       "      <th>2944</th>\n",
       "      <td>189</td>\n",
       "      <td>True</td>\n",
       "      <td>MVSELIKENMPMKLYMEGTVNNHHFKCTSEGEGKPYEGTQTMRIKV...</td>\n",
       "      <td>CCCCCCCCCCCEEEEEEEEECCEEEEEEEEEEECCCCCEEEEEEEE...</td>\n",
       "    </tr>\n",
       "  </tbody>\n",
       "</table>\n",
       "<p>2945 rows × 4 columns</p>\n",
       "</div>"
      ],
      "text/plain": [
       "      Site  Split                                           Sequence  \\\n",
       "0        1  False  MSKGEELFTGVVPILVELDGDVNGHKFSVSGEGEGDATYGKLTLKF...   \n",
       "1        2  False  MSKGEELFTGVVPILVELDGDVNGHKFSVSGEGEGDATYGKLTLKF...   \n",
       "2        3  False  MSKGEELFTGVVPILVELDGDVNGHKFSVSGEGEGDATYGKLTLKF...   \n",
       "3        4  False  MSKGEELFTGVVPILVELDGDVNGHKFSVSGEGEGDATYGKLTLKF...   \n",
       "4        5  False  MSKGEELFTGVVPILVELDGDVNGHKFSVSGEGEGDATYGKLTLKF...   \n",
       "...    ...    ...                                                ...   \n",
       "2940   185  False  MVSELIKENMPMKLYMEGTVNNHHFKCTSEGEGKPYEGTQTMRIKV...   \n",
       "2941   186  False  MVSELIKENMPMKLYMEGTVNNHHFKCTSEGEGKPYEGTQTMRIKV...   \n",
       "2942   187  False  MVSELIKENMPMKLYMEGTVNNHHFKCTSEGEGKPYEGTQTMRIKV...   \n",
       "2943   188   True  MVSELIKENMPMKLYMEGTVNNHHFKCTSEGEGKPYEGTQTMRIKV...   \n",
       "2944   189   True  MVSELIKENMPMKLYMEGTVNNHHFKCTSEGEGKPYEGTQTMRIKV...   \n",
       "\n",
       "                                              Secondary  \n",
       "0     CCCCHHHCCCCCEEEEEEEEEECCEEEEEEEEEEECCCCEEEEEEE...  \n",
       "1     CCCCHHHCCCCCEEEEEEEEEECCEEEEEEEEEEECCCCEEEEEEE...  \n",
       "2     CCCCHHHCCCCCEEEEEEEEEECCEEEEEEEEEEECCCCEEEEEEE...  \n",
       "3     CCCCHHHCCCCCEEEEEEEEEECCEEEEEEEEEEECCCCEEEEEEE...  \n",
       "4     CCCCHHHCCCCCEEEEEEEEEECCEEEEEEEEEEECCCCEEEEEEE...  \n",
       "...                                                 ...  \n",
       "2940  CCCCCCCCCCCEEEEEEEEECCEEEEEEEEEEECCCCCEEEEEEEE...  \n",
       "2941  CCCCCCCCCCCEEEEEEEEECCEEEEEEEEEEECCCCCEEEEEEEE...  \n",
       "2942  CCCCCCCCCCCEEEEEEEEECCEEEEEEEEEEECCCCCEEEEEEEE...  \n",
       "2943  CCCCCCCCCCCEEEEEEEEECCEEEEEEEEEEECCCCCEEEEEEEE...  \n",
       "2944  CCCCCCCCCCCEEEEEEEEECCEEEEEEEEEEECCCCCEEEEEEEE...  \n",
       "\n",
       "[2945 rows x 4 columns]"
      ]
     },
     "execution_count": 122,
     "metadata": {},
     "output_type": "execute_result"
    }
   ],
   "source": [
    "balanced_df_ = balanced_df[balanced_df['Sequence'].apply(len) < 500]\n",
    "balanced_df_"
   ]
  },
  {
   "cell_type": "code",
   "execution_count": 123,
   "metadata": {},
   "outputs": [],
   "source": [
    "# sampled_df = balanced_df\n",
    "sampled_df = balanced_df_"
   ]
  },
  {
   "cell_type": "code",
   "execution_count": 124,
   "metadata": {},
   "outputs": [
    {
     "data": {
      "text/plain": [
       "(2945, 128, 3)"
      ]
     },
     "execution_count": 124,
     "metadata": {},
     "output_type": "execute_result"
    }
   ],
   "source": [
    "import numpy as np\n",
    "\n",
    "def encode_secondary_structures_alternative(secondary_structures, max_len=128):\n",
    "    # Determine unique characters in the secondary structure sequences\n",
    "    unique_chars = sorted(list(set(\"\".join(secondary_structures))))\n",
    "    char_to_index = {char: i for i, char in enumerate(unique_chars)}\n",
    "    num_unique_chars = len(unique_chars)\n",
    "\n",
    "    # Convert characters to indices and pad/truncate sequences to the specified max length\n",
    "    sequences_numeric = [\n",
    "        [char_to_index[char] for char in seq[:max_len]] + [0] * (max_len - len(seq[:max_len]))\n",
    "        for seq in secondary_structures\n",
    "    ]\n",
    "    \n",
    "    # Convert to one-hot encoded format\n",
    "    one_hot_encoded = np.zeros((len(secondary_structures), max_len, num_unique_chars))\n",
    "    for i, seq in enumerate(sequences_numeric):\n",
    "        for j, idx in enumerate(seq):\n",
    "            one_hot_encoded[i, j, idx] = 1\n",
    "\n",
    "    return one_hot_encoded\n",
    "\n",
    "# Apply the alternative method to encode the Secondary column\n",
    "secondary_encoded_fixed = encode_secondary_structures_alternative(sampled_df['Secondary'])\n",
    "\n",
    "# Validate the shape of the encoded data\n",
    "secondary_encoded_fixed.shape\n"
   ]
  },
  {
   "cell_type": "code",
   "execution_count": 125,
   "metadata": {},
   "outputs": [],
   "source": [
    "pretrained_model_generator, input_encoder = load_pretrained_model()\n",
    "\n",
    "def encode_sequences_with_merge(sequences, encoder, seq_len=512):\n",
    "    encoded = encoder.encode_X(sequences, seq_len=seq_len)\n",
    "    valid_encoded = encoded[0] if isinstance(encoded, list) else encoded\n",
    "    return valid_encoded\n",
    "\n",
    "sequence_encoded = encode_sequences_with_merge(sampled_df['Sequence'], input_encoder, seq_len=1500)"
   ]
  },
  {
   "cell_type": "code",
   "execution_count": 126,
   "metadata": {},
   "outputs": [
    {
     "data": {
      "text/plain": [
       "((2945, 1500), (6276, 384), (2945, 1))"
      ]
     },
     "execution_count": 126,
     "metadata": {},
     "output_type": "execute_result"
    }
   ],
   "source": [
    "# Inspect the dimensions of each component\n",
    "sequence_encoded_shape = np.array(sequence_encoded).shape\n",
    "secondary_flattened_shape = secondary_flattened.shape\n",
    "site_column_shape = sampled_df[['Site']].values.shape\n",
    "\n",
    "sequence_encoded_shape, secondary_flattened_shape, site_column_shape"
   ]
  },
  {
   "cell_type": "code",
   "execution_count": 127,
   "metadata": {},
   "outputs": [
    {
     "data": {
      "text/plain": [
       "((2945, 1885), (2945,))"
      ]
     },
     "execution_count": 127,
     "metadata": {},
     "output_type": "execute_result"
    }
   ],
   "source": [
    "# Flatten the secondary structure encoding to match the input format for the MLP model\n",
    "secondary_flattened = secondary_encoded_fixed.reshape(secondary_encoded_fixed.shape[0], -1)\n",
    "\n",
    "# Combine features: Sequence encoding, secondary structure encoding, and Site\n",
    "X = np.hstack([\n",
    "    np.array(sequence_encoded),  # Sequence encoding (already flat)\n",
    "    secondary_flattened,         # Flattened secondary structure encoding\n",
    "    sampled_df[['Site']].values  # Site column\n",
    "])\n",
    "\n",
    "# Target variable: Split\n",
    "y = sampled_df['Split'].astype(int).values\n",
    "\n",
    "# Validate the final shapes of features and target variable\n",
    "X.shape, y.shape"
   ]
  },
  {
   "cell_type": "code",
   "execution_count": 128,
   "metadata": {},
   "outputs": [],
   "source": [
    "from sklearn.preprocessing import StandardScaler\n",
    "\n",
    "scaler = StandardScaler()\n",
    "X = scaler.fit_transform(X)"
   ]
  },
  {
   "cell_type": "code",
   "execution_count": 129,
   "metadata": {},
   "outputs": [],
   "source": [
    "from sklearn.decomposition import PCA\n",
    "\n",
    "pca = PCA(n_components=104)\n",
    "X_reduced = pca.fit_transform(X)"
   ]
  },
  {
   "cell_type": "code",
   "execution_count": null,
   "metadata": {},
   "outputs": [
    {
     "name": "stderr",
     "output_type": "stream",
     "text": [
      "/opt/homebrew/Caskroom/miniforge/base/envs/cq1/lib/python3.9/site-packages/sklearn/metrics/_classification.py:1531: UndefinedMetricWarning: Precision is ill-defined and being set to 0.0 in labels with no predicted samples. Use `zero_division` parameter to control this behavior.\n",
      "  _warn_prf(average, modifier, f\"{metric.capitalize()} is\", len(result))\n",
      "/opt/homebrew/Caskroom/miniforge/base/envs/cq1/lib/python3.9/site-packages/sklearn/metrics/_classification.py:1531: UndefinedMetricWarning: Precision is ill-defined and being set to 0.0 in labels with no predicted samples. Use `zero_division` parameter to control this behavior.\n",
      "  _warn_prf(average, modifier, f\"{metric.capitalize()} is\", len(result))\n",
      "/opt/homebrew/Caskroom/miniforge/base/envs/cq1/lib/python3.9/site-packages/sklearn/metrics/_classification.py:1531: UndefinedMetricWarning: Precision is ill-defined and being set to 0.0 in labels with no predicted samples. Use `zero_division` parameter to control this behavior.\n",
      "  _warn_prf(average, modifier, f\"{metric.capitalize()} is\", len(result))\n"
     ]
    },
    {
     "data": {
      "text/plain": [
       "(0.9728353140916808,\n",
       " '              precision    recall  f1-score   support\\n\\n           0       0.97      1.00      0.99       573\\n           1       0.00      0.00      0.00        16\\n\\n    accuracy                           0.97       589\\n   macro avg       0.49      0.50      0.49       589\\nweighted avg       0.95      0.97      0.96       589\\n')"
      ]
     },
     "execution_count": 130,
     "metadata": {},
     "output_type": "execute_result"
    }
   ],
   "source": [
    "from sklearn.model_selection import train_test_split\n",
    "from sklearn.neural_network import MLPClassifier\n",
    "from sklearn.metrics import accuracy_score, classification_report\n",
    "\n",
    "X_train, X_test, y_train, y_test = train_test_split(X_reduced, y, test_size=0.2, random_state=42)\n",
    "\n",
    "mlp_model = MLPClassifier(hidden_layer_sizes=(128, 64), max_iter=500, random_state=42)\n",
    "mlp_model.fit(X_train, y_train)\n",
    "\n",
    "y_pred = mlp_model.predict(X_test)\n",
    "accuracy = accuracy_score(y_test, y_pred)\n",
    "report = classification_report(y_test, y_pred)\n",
    "\n",
    "accuracy, report"
   ]
  },
  {
   "cell_type": "code",
   "execution_count": null,
   "metadata": {},
   "outputs": [],
   "source": [
    "# discuss一下\n",
    "# 1. 没加强度，欠采样76%，过采样90%，可以解释为什么实际表现不好，不采样97%，但应该是因为过拟合）\n",
    "# 2. 加强度算（明天做，有点麻烦（只能使用长度<512的sequence，信息不够多）/计算时间问题（需要运行1w次模型），而且精确度已经足够高了所以可能其实没必要，可以在论文里提一下）"
   ]
  },
  {
   "cell_type": "code",
   "execution_count": null,
   "metadata": {},
   "outputs": [],
   "source": []
  },
  {
   "cell_type": "code",
   "execution_count": null,
   "metadata": {},
   "outputs": [],
   "source": []
  }
 ],
 "metadata": {
  "kernelspec": {
   "display_name": "cq1",
   "language": "python",
   "name": "python3"
  },
  "language_info": {
   "codemirror_mode": {
    "name": "ipython",
    "version": 3
   },
   "file_extension": ".py",
   "mimetype": "text/x-python",
   "name": "python",
   "nbconvert_exporter": "python",
   "pygments_lexer": "ipython3",
   "version": "3.9.16"
  }
 },
 "nbformat": 4,
 "nbformat_minor": 2
}
