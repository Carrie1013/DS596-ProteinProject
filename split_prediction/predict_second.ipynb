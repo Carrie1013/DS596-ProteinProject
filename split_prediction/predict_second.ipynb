{
 "cells": [
  {
   "cell_type": "code",
   "execution_count": 2,
   "metadata": {},
   "outputs": [
    {
     "name": "stdout",
     "output_type": "stream",
     "text": [
      "/Users/qiaochufeng/Documents/GitHub/DS596-Project\n"
     ]
    }
   ],
   "source": [
    "%cd ../"
   ]
  },
  {
   "cell_type": "code",
   "execution_count": null,
   "metadata": {},
   "outputs": [],
   "source": []
  },
  {
   "cell_type": "code",
   "execution_count": null,
   "metadata": {},
   "outputs": [],
   "source": []
  },
  {
   "cell_type": "code",
   "execution_count": 19,
   "metadata": {},
   "outputs": [
    {
     "data": {
      "text/plain": [
       "(434, 512, 26)"
      ]
     },
     "execution_count": 19,
     "metadata": {},
     "output_type": "execute_result"
    }
   ],
   "source": []
  },
  {
   "cell_type": "code",
   "execution_count": 5,
   "metadata": {},
   "outputs": [],
   "source": [
    "def call_psipred_api(sequence: str):\n",
    "    psipred = \"http://bioinf.cs.ucl.ac.uk/psipred/api\"\n",
    "    submit_url = f\"{psipred}/submission\"\n",
    "    fasta_sequence = f\">query\\n{sequence}\"\n",
    "\n",
    "    payload = {'input_data': fasta_sequence}\n",
    "    data = {'job': 'psipred', 'submission_name': 'test','email': 'carrief0908@gmail.com'}\n",
    "    r = requests.post(f\"{submit_url}.json\", data=data, files=payload)\n",
    "    response_data = json.loads(r.text)\n",
    "    print(response_data)\n",
    "    uuid = response_data['UUID']\n",
    "\n",
    "    retries = 0\n",
    "    while retries < 30:\n",
    "      result_uri = f\"{submit_url}/{uuid}\"\n",
    "      r = requests.get(result_uri, headers={\"Accept\":\"application/json\"})\n",
    "      result_data = json.loads(r.text)\n",
    "      if \"Complete\" in result_data[\"state\"]:\n",
    "          data_path = result_data['submissions'][0]['results'][5]['data_path']\n",
    "          response = requests.get(f\"{psiprid}{data_path}\")\n",
    "          if response.status_code != 200:\n",
    "              raise Exception(f\"Failed to get results: {response.text}\")\n",
    "          ss_sequence = \"\"\n",
    "          for line in response.text.splitlines():\n",
    "              if not line.startswith('#') and len(line.split()) > 2:\n",
    "                  ss_sequence += line.split()[2]\n",
    "          return ss_sequence\n",
    "      else:\n",
    "          retries += 1\n",
    "          time.sleep(30)\n",
    "\n",
    "    raise Exception(\"Timeout waiting for PSIPRED results\")"
   ]
  },
  {
   "cell_type": "code",
   "execution_count": 10,
   "metadata": {},
   "outputs": [
    {
     "name": "stdout",
     "output_type": "stream",
     "text": [
      "{'UUID': '68045620-aced-11ef-979d-00163e100466', 'submission_name': 'test'}\n"
     ]
    },
    {
     "data": {
      "text/plain": [
       "'CCCCHHHCCCCCEEEEEEEEEECCEEEEEEEEEEECCCCEEEEEEEEEECCCCCCCHHHHHHHCCCCCEECCCCCCCCCCCCHHHHHCCCCCEEEEEEEEECCCEEEEEEEEEEECCEEEEEEEEEEECCCCCCCCCCCCCCCCCCCCCEEEEECCCCCCEEEEEEEEEECCCCCEEEEEEECCCCCCCCCCCCCCCCEEEEEEEEECCCCCCCCCCEEEEEEHHHCCCCCCCCCCCC'"
      ]
     },
     "execution_count": 10,
     "metadata": {},
     "output_type": "execute_result"
    }
   ],
   "source": [
    "import time\n",
    "import json\n",
    "import requests\n",
    "\n",
    "def call_psipred_api(sequence: str):\n",
    "    psipred = \"http://bioinf.cs.ucl.ac.uk/psipred/api\"\n",
    "    submit_url = f\"{psipred}/submission\"\n",
    "    fasta_sequence = f\">query\\n{sequence}\"\n",
    "\n",
    "    payload = {'input_data': fasta_sequence}\n",
    "    data = {'job': 'psipred', 'submission_name': 'test','email': 'carrief0908@gmail.com'}\n",
    "    r = requests.post(f\"{submit_url}.json\", data=data, files=payload)\n",
    "    response_data = json.loads(r.text)\n",
    "    print(response_data)\n",
    "    uuid = response_data['UUID']\n",
    "\n",
    "    retries = 0\n",
    "    while retries < 30:\n",
    "      result_uri = f\"{submit_url}/{uuid}\"\n",
    "      r = requests.get(result_uri, headers={\"Accept\":\"application/json\"})\n",
    "      result_data = json.loads(r.text)\n",
    "      if \"Complete\" in result_data[\"state\"]:\n",
    "          data_path = result_data['submissions'][0]['results'][5]['data_path']\n",
    "          response = requests.get(f\"{psipred}{data_path}\")\n",
    "          if response.status_code != 200:\n",
    "              raise Exception(f\"Failed to get results: {response.text}\")\n",
    "          ss_sequence = \"\"\n",
    "          for line in response.text.splitlines():\n",
    "              if not line.startswith('#') and len(line.split()) > 2:\n",
    "                  ss_sequence += line.split()[2]\n",
    "          return ss_sequence\n",
    "      else:\n",
    "          retries += 1\n",
    "          time.sleep(30)\n",
    "\n",
    "    raise Exception(\"Timeout waiting for PSIPRED results\")\n",
    "\n",
    "call_psipred_api(\"MSKGEELFTGVVPILVELDGDVNGHKFSVSGEGEGDATYGKLTLKFICTTGKLPVPWPTLVTTFSYGVQCFSRYPDHMKQHDFFKSAMPEGYVQERTIFFKDDGNYKTRAEVKFEGDTLVNRIELKGIDFKEDGNILGHKLEYNYNSHNVYIMADKQKNGIKVNFKIRHNIEDGSVQLADHYQQNTPIGDGPVLLPDNHYLSTQSALSKDPNEKRDHMVLLEFVTAAGITHGMDELYK\")"
   ]
  },
  {
   "cell_type": "code",
   "execution_count": null,
   "metadata": {},
   "outputs": [],
   "source": []
  }
 ],
 "metadata": {
  "kernelspec": {
   "display_name": "mcm",
   "language": "python",
   "name": "python3"
  },
  "language_info": {
   "codemirror_mode": {
    "name": "ipython",
    "version": 3
   },
   "file_extension": ".py",
   "mimetype": "text/x-python",
   "name": "python",
   "nbconvert_exporter": "python",
   "pygments_lexer": "ipython3",
   "version": "3.8.16"
  }
 },
 "nbformat": 4,
 "nbformat_minor": 2
}
